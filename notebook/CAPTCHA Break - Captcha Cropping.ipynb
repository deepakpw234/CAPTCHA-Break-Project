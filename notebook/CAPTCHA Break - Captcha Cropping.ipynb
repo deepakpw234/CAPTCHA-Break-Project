{
 "cells": [
  {
   "cell_type": "code",
   "execution_count": 1,
   "id": "135733db",
   "metadata": {},
   "outputs": [],
   "source": [
    "import pandas as pd\n",
    "import numpy as np"
   ]
  },
  {
   "cell_type": "markdown",
   "id": "02ba83b0",
   "metadata": {},
   "source": [
    "# Spliting a Image into Pieces"
   ]
  },
  {
   "cell_type": "code",
   "execution_count": 81,
   "id": "6554b218",
   "metadata": {},
   "outputs": [],
   "source": [
    "from PIL import Image\n",
    "import cv2\n",
    "import os\n",
    "\n",
    "for i,filename in enumerate(os.listdir('temp')):\n",
    "    img = Image.open(os.path.join(os.getcwd(),'temp',filename))\n",
    "    img = img.convert(\"L\")\n",
    "    img_start = 25\n",
    "    img_end = 48\n",
    "    a = img.crop((img_start,0,img_end,80))\n",
    "    p = str(os.makedirs(os.path.join(os.getcwd(),'cropped','1st_letter'),exist_ok=True))\n",
    "    inp = os.path.join(os.getcwd(),'cropped','1st_letter', f\"cap_{i+1}.jpg\")\n",
    "    a.save(inp)\n",
    "    \n",
    "for i,filename in enumerate(os.listdir('temp')):\n",
    "    img = Image.open(os.path.join(os.getcwd(),'temp',filename))\n",
    "    img = img.convert(\"L\")\n",
    "    img_start = 48\n",
    "    img_end = 72\n",
    "    a = img.crop((img_start,0,img_end,80))\n",
    "    p = str(os.makedirs(os.path.join(os.getcwd(),'cropped','2nd_letter'),exist_ok=True))\n",
    "    inp = os.path.join(os.getcwd(),'cropped','2nd_letter', f\"cap_{i+1}.jpg\")\n",
    "    a.save(inp)\n",
    "    \n",
    "for i,filename in enumerate(os.listdir('temp')):\n",
    "    img = Image.open(os.path.join(os.getcwd(),'temp',filename))\n",
    "    img = img.convert(\"L\")\n",
    "    img_start = 75\n",
    "    img_end = 98\n",
    "    a = img.crop((img_start,0,img_end,80))\n",
    "    p = str(os.makedirs(os.path.join(os.getcwd(),'cropped','3rd_letter'),exist_ok=True))\n",
    "    inp = os.path.join(os.getcwd(),'cropped','3rd_letter', f\"cap_{i+1}.jpg\")\n",
    "    a.save(inp)\n",
    "    \n",
    "for i,filename in enumerate(os.listdir('temp')):\n",
    "    img = Image.open(os.path.join(os.getcwd(),'temp',filename))\n",
    "    img = img.convert(\"L\")\n",
    "    img_start = 100\n",
    "    img_end = 123\n",
    "    a = img.crop((img_start,0,img_end,80))\n",
    "    p = str(os.makedirs(os.path.join(os.getcwd(),'cropped','4th_letter'),exist_ok=True))\n",
    "    inp = os.path.join(os.getcwd(),'cropped','4th_letter', f\"cap_{i+1}.jpg\")\n",
    "    a.save(inp)\n",
    "    \n",
    "for i,filename in enumerate(os.listdir('temp')):\n",
    "    img = Image.open(os.path.join(os.getcwd(),'temp',filename))\n",
    "    img = img.convert(\"L\")\n",
    "    img_start = 125\n",
    "    img_end = 148\n",
    "    a = img.crop((img_start,0,img_end,80))\n",
    "    p = str(os.makedirs(os.path.join(os.getcwd(),'cropped','5th_letter'),exist_ok=True))\n",
    "    inp = os.path.join(os.getcwd(),'cropped','5th_letter', f\"cap_{i+1}.jpg\")\n",
    "    a.save(inp)\n",
    "    \n",
    "for i,filename in enumerate(os.listdir('temp')):\n",
    "    img = Image.open(os.path.join(os.getcwd(),'temp',filename))\n",
    "    img = img.convert(\"L\")\n",
    "    img_start = 149\n",
    "    img_end = 175\n",
    "    a = img.crop((img_start,0,img_end,80))\n",
    "    p = str(os.makedirs(os.path.join(os.getcwd(),'cropped','6th_letter'),exist_ok=True))\n",
    "    inp = os.path.join(os.getcwd(),'cropped','6th_letter', f\"cap_{i+1}.jpg\")\n",
    "    a.save(inp)"
   ]
  },
  {
   "cell_type": "code",
   "execution_count": 3,
   "id": "ea9a4581",
   "metadata": {},
   "outputs": [
    {
     "data": {
      "image/png": "[encoded data removed]",
      "text/plain": [
       "<PIL.Image.Image image mode=L size=26x80>"
      ]
     },
     "execution_count": 3,
     "metadata": {},
     "output_type": "execute_result"
    }
   ],
   "source": [
    "img = Image.open(os.path.join(os.getcwd(),'temp','captcha_15.jpg'))\n",
    "img = img.convert(\"L\")\n",
    "img_start = 149\n",
    "img_end = 175\n",
    "a = img.crop((img_start,0,img_end,80))\n",
    "a\n",
    "# p = str(os.makedirs(os.path.join(os.getcwd(),'cropped','1st_letter'),exist_ok=True))\n",
    "# inp = os.path.join(os.getcwd(),'cropped','1st_letter', f\"cap_{i+1}.jpg\")\n",
    "# a.save(inp)"
   ]
  },
  {
   "cell_type": "code",
   "execution_count": 4,
   "id": "66b5107f",
   "metadata": {},
   "outputs": [
    {
     "data": {
      "text/plain": [
       "['.ipynb_checkpoints',\n",
       " 'CAPTCHA Break - Analysis.ipynb',\n",
       " 'CAPTCHA Break - Web Scrapping.ipynb',\n",
       " 'cropped',\n",
       " 'downloaded_images',\n",
       " 'temp',\n",
       " 'Working Character Recognition.ipynb']"
      ]
     },
     "execution_count": 4,
     "metadata": {},
     "output_type": "execute_result"
    }
   ],
   "source": [
    "os.listdir()"
   ]
  },
  {
   "cell_type": "markdown",
   "id": "20f3b5a8",
   "metadata": {},
   "source": [
    "# Classification of images into group"
   ]
  },
  {
   "cell_type": "code",
   "execution_count": 82,
   "id": "cea84472",
   "metadata": {},
   "outputs": [],
   "source": [
    "# Dropping thr Duplicate image from first letter\n",
    "import hashlib\n",
    "import os\n",
    "\n",
    "hashes = set()\n",
    "\n",
    "for filename in os.listdir(os.path.join(os.getcwd(),'cropped','1st_letter')):\n",
    "    path = os.path.join(os.getcwd(),'cropped','1st_letter', filename)\n",
    "    digest = hashlib.sha1(open(path,'rb').read()).digest()\n",
    "    if digest not in hashes:\n",
    "        hashes.add(digest)\n",
    "    else:\n",
    "        os.remove(path)"
   ]
  },
  {
   "cell_type": "code",
   "execution_count": 83,
   "id": "ea0f40b4",
   "metadata": {},
   "outputs": [],
   "source": [
    "# Dropping thr Duplicate image from second letter\n",
    "import hashlib\n",
    "import os\n",
    "\n",
    "hashes = set()\n",
    "\n",
    "for filename in os.listdir(os.path.join(os.getcwd(),'cropped','2nd_letter')):\n",
    "    path = os.path.join(os.getcwd(),'cropped','2nd_letter', filename)\n",
    "    digest = hashlib.sha1(open(path,'rb').read()).digest()\n",
    "    if digest not in hashes:\n",
    "        hashes.add(digest)\n",
    "    else:\n",
    "        os.remove(path)"
   ]
  },
  {
   "cell_type": "code",
   "execution_count": 84,
   "id": "06686bd4",
   "metadata": {},
   "outputs": [],
   "source": [
    "# Dropping thr Duplicate image from Third letter\n",
    "import hashlib\n",
    "import os\n",
    "\n",
    "hashes = set()\n",
    "\n",
    "for filename in os.listdir(os.path.join(os.getcwd(),'cropped','3rd_letter')):\n",
    "    path = os.path.join(os.getcwd(),'cropped','3rd_letter', filename)\n",
    "    digest = hashlib.sha1(open(path,'rb').read()).digest()\n",
    "    if digest not in hashes:\n",
    "        hashes.add(digest)\n",
    "    else:\n",
    "        os.remove(path)"
   ]
  },
  {
   "cell_type": "code",
   "execution_count": 85,
   "id": "206dc472",
   "metadata": {},
   "outputs": [],
   "source": [
    "# Dropping thr Duplicate image from Fourth letter\n",
    "import hashlib\n",
    "import os\n",
    "\n",
    "hashes = set()\n",
    "\n",
    "for filename in os.listdir(os.path.join(os.getcwd(),'cropped','4th_letter')):\n",
    "    path = os.path.join(os.getcwd(),'cropped','4th_letter', filename)\n",
    "    digest = hashlib.sha1(open(path,'rb').read()).digest()\n",
    "    if digest not in hashes:\n",
    "        hashes.add(digest)\n",
    "    else:\n",
    "        os.remove(path)"
   ]
  },
  {
   "cell_type": "code",
   "execution_count": 86,
   "id": "e01b1884",
   "metadata": {},
   "outputs": [],
   "source": [
    "# Dropping thr Duplicate image from Fifth letter\n",
    "import hashlib\n",
    "import os\n",
    "\n",
    "hashes = set()\n",
    "\n",
    "for filename in os.listdir(os.path.join(os.getcwd(),'cropped','5th_letter')):\n",
    "    path = os.path.join(os.getcwd(),'cropped','5th_letter', filename)\n",
    "    digest = hashlib.sha1(open(path,'rb').read()).digest()\n",
    "    if digest not in hashes:\n",
    "        hashes.add(digest)\n",
    "    else:\n",
    "        os.remove(path)"
   ]
  },
  {
   "cell_type": "code",
   "execution_count": 87,
   "id": "308515c5",
   "metadata": {},
   "outputs": [],
   "source": [
    "# Dropping thr Duplicate image from Sixth letter\n",
    "import hashlib\n",
    "import os\n",
    "\n",
    "hashes = set()\n",
    "\n",
    "for filename in os.listdir(os.path.join(os.getcwd(),'cropped','6th_letter')):\n",
    "    path = os.path.join(os.getcwd(),'cropped','6th_letter', filename)\n",
    "    digest = hashlib.sha1(open(path,'rb').read()).digest()\n",
    "    if digest not in hashes:\n",
    "        hashes.add(digest)\n",
    "    else:\n",
    "        os.remove(path)\n",
    "        \n"
   ]
  },
  {
   "cell_type": "code",
   "execution_count": 12,
   "id": "a74c3ef5",
   "metadata": {},
   "outputs": [
    {
     "data": {
      "text/plain": [
       "['1st_letter',\n",
       " '2nd_letter',\n",
       " '3rd_letter',\n",
       " '4th_letter',\n",
       " '5th_letter',\n",
       " '6th_letter']"
      ]
     },
     "execution_count": 12,
     "metadata": {},
     "output_type": "execute_result"
    }
   ],
   "source": [
    "os.listdir(os.path.join(os.getcwd(),'cropped'))"
   ]
  },
  {
   "cell_type": "code",
   "execution_count": 13,
   "id": "26d96f78",
   "metadata": {},
   "outputs": [
    {
     "data": {
      "text/plain": [
       "'C:\\\\Users\\\\deepa\\\\Panda 2024\\\\CAPTCHA Break\\\\Jupyter'"
      ]
     },
     "execution_count": 13,
     "metadata": {},
     "output_type": "execute_result"
    }
   ],
   "source": [
    "os.getcwd()"
   ]
  },
  {
   "cell_type": "code",
   "execution_count": 14,
   "id": "5be2b9cb",
   "metadata": {},
   "outputs": [
    {
     "data": {
      "text/plain": [
       "['.ipynb_checkpoints',\n",
       " 'CAPTCHA Break - Analysis.ipynb',\n",
       " 'CAPTCHA Break - Web Scrapping.ipynb',\n",
       " 'cropped',\n",
       " 'downloaded_images',\n",
       " 'temp',\n",
       " 'Working Character Recognition.ipynb']"
      ]
     },
     "execution_count": 14,
     "metadata": {},
     "output_type": "execute_result"
    }
   ],
   "source": [
    "os.listdir()"
   ]
  },
  {
   "cell_type": "markdown",
   "id": "a19da698",
   "metadata": {},
   "source": [
    "# Similarity of Images to groupin"
   ]
  },
  {
   "cell_type": "code",
   "execution_count": 20,
   "id": "750b3a55",
   "metadata": {},
   "outputs": [
    {
     "name": "stdout",
     "output_type": "stream",
     "text": [
      "Defaulting to user installation because normal site-packages is not writeable\n",
      "Requirement already satisfied: ImageHash in c:\\users\\deepa\\appdata\\roaming\\python\\python39\\site-packages (4.3.1)\n",
      "Requirement already satisfied: pillow in c:\\programdata\\anaconda3\\lib\\site-packages (from ImageHash) (9.2.0)\n",
      "Requirement already satisfied: numpy in c:\\users\\deepa\\appdata\\roaming\\python\\python39\\site-packages (from ImageHash) (1.24.4)\n",
      "Requirement already satisfied: scipy in c:\\programdata\\anaconda3\\lib\\site-packages (from ImageHash) (1.9.1)\n",
      "Requirement already satisfied: PyWavelets in c:\\programdata\\anaconda3\\lib\\site-packages (from ImageHash) (1.3.0)\n",
      "Note: you may need to restart the kernel to use updated packages.\n"
     ]
    },
    {
     "name": "stderr",
     "output_type": "stream",
     "text": [
      "WARNING: Ignoring invalid distribution -ython-box (c:\\users\\deepa\\appdata\\roaming\\python\\python39\\site-packages)\n",
      "WARNING: Ignoring invalid distribution -rotobuf (c:\\users\\deepa\\appdata\\roaming\\python\\python39\\site-packages)\n",
      "WARNING: Ignoring invalid distribution -ython-box (c:\\users\\deepa\\appdata\\roaming\\python\\python39\\site-packages)\n",
      "WARNING: Ignoring invalid distribution -rotobuf (c:\\users\\deepa\\appdata\\roaming\\python\\python39\\site-packages)\n",
      "WARNING: Ignoring invalid distribution -ython-box (c:\\users\\deepa\\appdata\\roaming\\python\\python39\\site-packages)\n",
      "WARNING: Ignoring invalid distribution -rotobuf (c:\\users\\deepa\\appdata\\roaming\\python\\python39\\site-packages)\n",
      "WARNING: Ignoring invalid distribution -ython-box (c:\\users\\deepa\\appdata\\roaming\\python\\python39\\site-packages)\n",
      "WARNING: Ignoring invalid distribution -rotobuf (c:\\users\\deepa\\appdata\\roaming\\python\\python39\\site-packages)\n",
      "WARNING: Ignoring invalid distribution -ython-box (c:\\users\\deepa\\appdata\\roaming\\python\\python39\\site-packages)\n",
      "WARNING: Ignoring invalid distribution -rotobuf (c:\\users\\deepa\\appdata\\roaming\\python\\python39\\site-packages)\n",
      "WARNING: Ignoring invalid distribution -ython-box (c:\\users\\deepa\\appdata\\roaming\\python\\python39\\site-packages)\n",
      "WARNING: Ignoring invalid distribution -rotobuf (c:\\users\\deepa\\appdata\\roaming\\python\\python39\\site-packages)\n"
     ]
    }
   ],
   "source": [
    "pip install ImageHash"
   ]
  },
  {
   "cell_type": "code",
   "execution_count": 29,
   "id": "06f543ee",
   "metadata": {},
   "outputs": [
    {
     "name": "stdout",
     "output_type": "stream",
     "text": [
      "Not Similar Image\n"
     ]
    }
   ],
   "source": [
    "from PIL import Image\n",
    "import imagehash\n",
    "\n",
    "hash0 = imagehash.average_hash(Image.open(r\"C:\\Users\\deepa\\Panda 2024\\CAPTCHA Break\\Jupyter\\cropped\\1st_letter\\cap_1.jpg\"))\n",
    "hash1 = imagehash.average_hash(Image.open(r\"C:\\Users\\deepa\\Panda 2024\\CAPTCHA Break\\Jupyter\\cropped\\1st_letter\\cap_2206.jpg\"))\n",
    "cutoff = 5\n",
    "\n",
    "if (hash0 - hash1) < 5:\n",
    "    print('Similar Image')\n",
    "else:\n",
    "    print('Not Similar Image')"
   ]
  },
  {
   "cell_type": "code",
   "execution_count": 30,
   "id": "7286b715",
   "metadata": {},
   "outputs": [
    {
     "data": {
      "text/plain": [
       "'C:\\\\Users\\\\deepa\\\\Panda 2024\\\\CAPTCHA Break\\\\Jupyter'"
      ]
     },
     "execution_count": 30,
     "metadata": {},
     "output_type": "execute_result"
    }
   ],
   "source": [
    "os.getcwd()"
   ]
  },
  {
   "cell_type": "code",
   "execution_count": 33,
   "id": "6f7d9151",
   "metadata": {},
   "outputs": [
    {
     "data": {
      "text/plain": [
       "['.ipynb_checkpoints',\n",
       " 'CAPTCHA Break - Analysis.ipynb',\n",
       " 'CAPTCHA Break - Web Scrapping.ipynb',\n",
       " 'cropped',\n",
       " 'downloaded_images',\n",
       " 'temp',\n",
       " 'Working Character Recognition.ipynb']"
      ]
     },
     "execution_count": 33,
     "metadata": {},
     "output_type": "execute_result"
    }
   ],
   "source": [
    "os.listdir()"
   ]
  },
  {
   "cell_type": "code",
   "execution_count": 32,
   "id": "0e6a1697",
   "metadata": {},
   "outputs": [
    {
     "name": "stdout",
     "output_type": "stream",
     "text": [
      "C:\\Users\\deepa\\Panda 2024\\CAPTCHA Break\\Jupyter\\cropped\\1st_letter\n"
     ]
    }
   ],
   "source": [
    "img_path = os.path.join(os.getcwd(),\"cropped\",\"1st_letter\")\n",
    "print(img_path)"
   ]
  },
  {
   "cell_type": "code",
   "execution_count": 103,
   "id": "55ffa501",
   "metadata": {},
   "outputs": [
    {
     "name": "stdout",
     "output_type": "stream",
     "text": [
      "0\n"
     ]
    }
   ],
   "source": [
    "from PIL import Image\n",
    "import imagehash\n",
    "import os\n",
    "import shutil\n",
    "\n",
    "try:\n",
    "    num = 0\n",
    "    l =[]\n",
    "    for i,filename in enumerate(os.listdir(os.path.join(os.getcwd(),\"cropped\",\"6th_letter\"))):\n",
    "        image_path = os.path.join(os.getcwd(),\"cropped\",\"6th_letter\",filename)\n",
    "        if image_path in l:\n",
    "            continue\n",
    "        image_hash = imagehash.average_hash(Image.open(image_path))\n",
    "        cutoff = 3\n",
    "        print('yes')\n",
    "        print(image_path)\n",
    "\n",
    "        for j,filename1 in enumerate(os.listdir(os.path.join(os.getcwd(),\"cropped\",\"6th_letter\"))):\n",
    "            image_path1 = os.path.join(os.getcwd(),\"cropped\",\"6th_letter\",filename1)\n",
    "            image_hash1 = imagehash.average_hash(Image.open(image_path1))\n",
    "\n",
    "            if (image_hash - image_hash1) < cutoff:\n",
    "                os.makedirs(os.path.join(os.getcwd(),\"cropped\",f\"6th_letter{i}\"),exist_ok=True)\n",
    "                shutil.copy2(image_path1, os.path.join(os.getcwd(),\"cropped\",f\"6th_letter{i}\",filename1))\n",
    "                print(image_path1)\n",
    "                l.append(image_path1)\n",
    "                os.remove(image_path1)\n",
    "                print(os.listdir(os.path.join(os.getcwd(),\"cropped\",\"6th_letter\")))\n",
    "                num = num + 1\n",
    "        print(filename)\n",
    "    print(num)\n",
    "except:\n",
    "    raise Exception"
   ]
  },
  {
   "cell_type": "code",
   "execution_count": 64,
   "id": "7e56f47c",
   "metadata": {},
   "outputs": [],
   "source": [
    "os.remove(r\"C:\\Users\\deepa\\Panda 2024\\CAPTCHA Break\\Jupyter\\cropped\\1st_letter_0\\cap_2151.jpg\")"
   ]
  },
  {
   "cell_type": "code",
   "execution_count": null,
   "id": "209efe02",
   "metadata": {},
   "outputs": [],
   "source": []
  }
 ],
 "metadata": {
  "kernelspec": {
   "display_name": "Python 3 (ipykernel)",
   "language": "python",
   "name": "python3"
  },
  "language_info": {
   "codemirror_mode": {
    "name": "ipython",
    "version": 3
   },
   "file_extension": ".py",
   "mimetype": "text/x-python",
   "name": "python",
   "nbconvert_exporter": "python",
   "pygments_lexer": "ipython3",
   "version": "3.9.13"
  }
 },
 "nbformat": 4,
 "nbformat_minor": 5
}
